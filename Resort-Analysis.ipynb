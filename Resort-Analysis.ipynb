{
 "cells": [
  {
   "cell_type": "code",
   "execution_count": 23,
   "id": "99cc6b8a",
   "metadata": {},
   "outputs": [],
   "source": [
    "import pandas as pd\n",
    "import matplotlib.pyplot as plt\n",
    "import numpy as np\n",
    "import seaborn as sns\n",
    "import os"
   ]
  },
  {
   "cell_type": "code",
   "execution_count": 2,
   "id": "f58508d3",
   "metadata": {},
   "outputs": [
    {
     "data": {
      "text/plain": [
       "'C:\\\\Program Files (x86)\\\\Python38-32\\\\Scripts\\\\.ipynb_checkpoints'"
      ]
     },
     "execution_count": 2,
     "metadata": {},
     "output_type": "execute_result"
    }
   ],
   "source": [
    "#Show current working directory\n",
    "os.getcwd()"
   ]
  },
  {
   "cell_type": "code",
   "execution_count": 3,
   "id": "44dddfc3",
   "metadata": {},
   "outputs": [
    {
     "data": {
      "text/html": [
       "<div>\n",
       "<style scoped>\n",
       "    .dataframe tbody tr th:only-of-type {\n",
       "        vertical-align: middle;\n",
       "    }\n",
       "\n",
       "    .dataframe tbody tr th {\n",
       "        vertical-align: top;\n",
       "    }\n",
       "\n",
       "    .dataframe thead th {\n",
       "        text-align: right;\n",
       "    }\n",
       "</style>\n",
       "<table border=\"1\" class=\"dataframe\">\n",
       "  <thead>\n",
       "    <tr style=\"text-align: right;\">\n",
       "      <th></th>\n",
       "      <th>ID</th>\n",
       "      <th>Resort</th>\n",
       "      <th>Latitude</th>\n",
       "      <th>Longitude</th>\n",
       "      <th>Country</th>\n",
       "      <th>Continent</th>\n",
       "      <th>Price</th>\n",
       "      <th>Highest point</th>\n",
       "      <th>Lowest point</th>\n",
       "      <th>Beginner slopes</th>\n",
       "      <th>...</th>\n",
       "      <th>Snow cannons</th>\n",
       "      <th>Surface lifts</th>\n",
       "      <th>Chair lifts</th>\n",
       "      <th>Gondola lifts</th>\n",
       "      <th>Total lifts</th>\n",
       "      <th>Lift capacity</th>\n",
       "      <th>Child friendly</th>\n",
       "      <th>Snowparks</th>\n",
       "      <th>Nightskiing</th>\n",
       "      <th>Summer skiing</th>\n",
       "    </tr>\n",
       "  </thead>\n",
       "  <tbody>\n",
       "    <tr>\n",
       "      <th>0</th>\n",
       "      <td>1.0</td>\n",
       "      <td>Hemsedal</td>\n",
       "      <td>60.928244</td>\n",
       "      <td>8.383487</td>\n",
       "      <td>Norway</td>\n",
       "      <td>Europe</td>\n",
       "      <td>? 46.00</td>\n",
       "      <td>1450.0</td>\n",
       "      <td>620.0</td>\n",
       "      <td>29</td>\n",
       "      <td>...</td>\n",
       "      <td>325.0</td>\n",
       "      <td>15.0</td>\n",
       "      <td>6.0</td>\n",
       "      <td>0.0</td>\n",
       "      <td>21.0</td>\n",
       "      <td>22921.0</td>\n",
       "      <td>Yes</td>\n",
       "      <td>Yes</td>\n",
       "      <td>Yes</td>\n",
       "      <td>No</td>\n",
       "    </tr>\n",
       "    <tr>\n",
       "      <th>1</th>\n",
       "      <td>2.0</td>\n",
       "      <td>Geilosiden Geilo</td>\n",
       "      <td>60.534526</td>\n",
       "      <td>8.206372</td>\n",
       "      <td>Norway</td>\n",
       "      <td>Europe</td>\n",
       "      <td>? 44.00</td>\n",
       "      <td>1178.0</td>\n",
       "      <td>800.0</td>\n",
       "      <td>18</td>\n",
       "      <td>...</td>\n",
       "      <td>100.0</td>\n",
       "      <td>18.0</td>\n",
       "      <td>6.0</td>\n",
       "      <td>0.0</td>\n",
       "      <td>24.0</td>\n",
       "      <td>14225.0</td>\n",
       "      <td>Yes</td>\n",
       "      <td>Yes</td>\n",
       "      <td>Yes</td>\n",
       "      <td>No</td>\n",
       "    </tr>\n",
       "    <tr>\n",
       "      <th>2</th>\n",
       "      <td>3.0</td>\n",
       "      <td>Golm</td>\n",
       "      <td>47.057810</td>\n",
       "      <td>9.828167</td>\n",
       "      <td>Austria</td>\n",
       "      <td>Europe</td>\n",
       "      <td>? 48.00</td>\n",
       "      <td>2110.0</td>\n",
       "      <td>650.0</td>\n",
       "      <td>13</td>\n",
       "      <td>...</td>\n",
       "      <td>123.0</td>\n",
       "      <td>4.0</td>\n",
       "      <td>4.0</td>\n",
       "      <td>3.0</td>\n",
       "      <td>11.0</td>\n",
       "      <td>16240.0</td>\n",
       "      <td>Yes</td>\n",
       "      <td>No</td>\n",
       "      <td>No</td>\n",
       "      <td>No</td>\n",
       "    </tr>\n",
       "    <tr>\n",
       "      <th>3</th>\n",
       "      <td>4.0</td>\n",
       "      <td>Red Mountain Resort-Rossland</td>\n",
       "      <td>49.105520</td>\n",
       "      <td>-117.846280</td>\n",
       "      <td>Canada</td>\n",
       "      <td>North America</td>\n",
       "      <td>? 60.00</td>\n",
       "      <td>2075.0</td>\n",
       "      <td>1185.0</td>\n",
       "      <td>20</td>\n",
       "      <td>...</td>\n",
       "      <td>0.0</td>\n",
       "      <td>2.0</td>\n",
       "      <td>5.0</td>\n",
       "      <td>1.0</td>\n",
       "      <td>8.0</td>\n",
       "      <td>9200.0</td>\n",
       "      <td>Yes</td>\n",
       "      <td>Yes</td>\n",
       "      <td>Yes</td>\n",
       "      <td>No</td>\n",
       "    </tr>\n",
       "    <tr>\n",
       "      <th>4</th>\n",
       "      <td>5.0</td>\n",
       "      <td>Hafjell</td>\n",
       "      <td>61.230369</td>\n",
       "      <td>10.529014</td>\n",
       "      <td>Norway</td>\n",
       "      <td>Europe</td>\n",
       "      <td>? 45.00</td>\n",
       "      <td>1030.0</td>\n",
       "      <td>195.0</td>\n",
       "      <td>33</td>\n",
       "      <td>...</td>\n",
       "      <td>150.0</td>\n",
       "      <td>14.0</td>\n",
       "      <td>3.0</td>\n",
       "      <td>1.0</td>\n",
       "      <td>18.0</td>\n",
       "      <td>21060.0</td>\n",
       "      <td>Yes</td>\n",
       "      <td>Yes</td>\n",
       "      <td>Yes</td>\n",
       "      <td>No</td>\n",
       "    </tr>\n",
       "  </tbody>\n",
       "</table>\n",
       "<p>5 rows × 24 columns</p>\n",
       "</div>"
      ],
      "text/plain": [
       "    ID                        Resort   Latitude   Longitude  Country   \n",
       "0  1.0                      Hemsedal  60.928244    8.383487   Norway  \\\n",
       "1  2.0              Geilosiden Geilo  60.534526    8.206372   Norway   \n",
       "2  3.0                          Golm  47.057810    9.828167  Austria   \n",
       "3  4.0  Red Mountain Resort-Rossland  49.105520 -117.846280   Canada   \n",
       "4  5.0                       Hafjell  61.230369   10.529014   Norway   \n",
       "\n",
       "       Continent    Price  Highest point  Lowest point  Beginner slopes  ...   \n",
       "0         Europe  ? 46.00         1450.0         620.0               29  ...  \\\n",
       "1         Europe  ? 44.00         1178.0         800.0               18  ...   \n",
       "2         Europe  ? 48.00         2110.0         650.0               13  ...   \n",
       "3  North America  ? 60.00         2075.0        1185.0               20  ...   \n",
       "4         Europe  ? 45.00         1030.0         195.0               33  ...   \n",
       "\n",
       "   Snow cannons  Surface lifts  Chair lifts  Gondola lifts  Total lifts   \n",
       "0         325.0           15.0          6.0            0.0         21.0  \\\n",
       "1         100.0           18.0          6.0            0.0         24.0   \n",
       "2         123.0            4.0          4.0            3.0         11.0   \n",
       "3           0.0            2.0          5.0            1.0          8.0   \n",
       "4         150.0           14.0          3.0            1.0         18.0   \n",
       "\n",
       "   Lift capacity  Child friendly  Snowparks  Nightskiing  Summer skiing  \n",
       "0        22921.0             Yes        Yes          Yes             No  \n",
       "1        14225.0             Yes        Yes          Yes             No  \n",
       "2        16240.0             Yes         No           No             No  \n",
       "3         9200.0             Yes        Yes          Yes             No  \n",
       "4        21060.0             Yes        Yes          Yes             No  \n",
       "\n",
       "[5 rows x 24 columns]"
      ]
     },
     "execution_count": 3,
     "metadata": {},
     "output_type": "execute_result"
    }
   ],
   "source": [
    "#Reading file from our directory\n",
    "ski = pd.read_csv('C:/Users/modave/Downloads/resort.csv',encoding='ISO-8859-1')\n",
    "ski.head()"
   ]
  },
  {
   "cell_type": "code",
   "execution_count": 4,
   "id": "818acd24",
   "metadata": {},
   "outputs": [
    {
     "data": {
      "text/html": [
       "<div>\n",
       "<style scoped>\n",
       "    .dataframe tbody tr th:only-of-type {\n",
       "        vertical-align: middle;\n",
       "    }\n",
       "\n",
       "    .dataframe tbody tr th {\n",
       "        vertical-align: top;\n",
       "    }\n",
       "\n",
       "    .dataframe thead th {\n",
       "        text-align: right;\n",
       "    }\n",
       "</style>\n",
       "<table border=\"1\" class=\"dataframe\">\n",
       "  <thead>\n",
       "    <tr style=\"text-align: right;\">\n",
       "      <th></th>\n",
       "      <th>ID</th>\n",
       "      <th>Latitude</th>\n",
       "      <th>Longitude</th>\n",
       "      <th>Highest point</th>\n",
       "      <th>Lowest point</th>\n",
       "      <th>Beginner slopes</th>\n",
       "      <th>Intermediate slopes</th>\n",
       "      <th>Difficult slopes</th>\n",
       "      <th>Total slopes</th>\n",
       "      <th>Longest run</th>\n",
       "      <th>Snow cannons</th>\n",
       "      <th>Surface lifts</th>\n",
       "      <th>Chair lifts</th>\n",
       "      <th>Gondola lifts</th>\n",
       "      <th>Total lifts</th>\n",
       "      <th>Lift capacity</th>\n",
       "    </tr>\n",
       "  </thead>\n",
       "  <tbody>\n",
       "    <tr>\n",
       "      <th>count</th>\n",
       "      <td>499.000000</td>\n",
       "      <td>499.000000</td>\n",
       "      <td>499.000000</td>\n",
       "      <td>499.000000</td>\n",
       "      <td>499.000000</td>\n",
       "      <td>500.000000</td>\n",
       "      <td>499.000000</td>\n",
       "      <td>499.000000</td>\n",
       "      <td>499.000000</td>\n",
       "      <td>499.000000</td>\n",
       "      <td>499.000000</td>\n",
       "      <td>499.000000</td>\n",
       "      <td>499.000000</td>\n",
       "      <td>499.000000</td>\n",
       "      <td>499.000000</td>\n",
       "      <td>499.000000</td>\n",
       "    </tr>\n",
       "    <tr>\n",
       "      <th>mean</th>\n",
       "      <td>250.000000</td>\n",
       "      <td>43.205684</td>\n",
       "      <td>-6.006784</td>\n",
       "      <td>2160.589178</td>\n",
       "      <td>1200.631263</td>\n",
       "      <td>32.602000</td>\n",
       "      <td>37.921844</td>\n",
       "      <td>16.164329</td>\n",
       "      <td>85.905812</td>\n",
       "      <td>3.545090</td>\n",
       "      <td>179.136273</td>\n",
       "      <td>11.282565</td>\n",
       "      <td>9.721443</td>\n",
       "      <td>3.258517</td>\n",
       "      <td>24.262525</td>\n",
       "      <td>31650.961924</td>\n",
       "    </tr>\n",
       "    <tr>\n",
       "      <th>std</th>\n",
       "      <td>144.193157</td>\n",
       "      <td>15.975790</td>\n",
       "      <td>59.990459</td>\n",
       "      <td>774.339805</td>\n",
       "      <td>596.142294</td>\n",
       "      <td>50.482359</td>\n",
       "      <td>44.358524</td>\n",
       "      <td>20.115855</td>\n",
       "      <td>100.874157</td>\n",
       "      <td>3.947887</td>\n",
       "      <td>372.321111</td>\n",
       "      <td>13.365360</td>\n",
       "      <td>11.461502</td>\n",
       "      <td>5.867967</td>\n",
       "      <td>27.672736</td>\n",
       "      <td>40781.986019</td>\n",
       "    </tr>\n",
       "    <tr>\n",
       "      <th>min</th>\n",
       "      <td>1.000000</td>\n",
       "      <td>-45.054960</td>\n",
       "      <td>-149.740657</td>\n",
       "      <td>163.000000</td>\n",
       "      <td>36.000000</td>\n",
       "      <td>0.000000</td>\n",
       "      <td>0.000000</td>\n",
       "      <td>0.000000</td>\n",
       "      <td>1.000000</td>\n",
       "      <td>0.000000</td>\n",
       "      <td>0.000000</td>\n",
       "      <td>0.000000</td>\n",
       "      <td>0.000000</td>\n",
       "      <td>0.000000</td>\n",
       "      <td>0.000000</td>\n",
       "      <td>0.000000</td>\n",
       "    </tr>\n",
       "    <tr>\n",
       "      <th>25%</th>\n",
       "      <td>125.500000</td>\n",
       "      <td>43.672650</td>\n",
       "      <td>1.380975</td>\n",
       "      <td>1594.000000</td>\n",
       "      <td>800.000000</td>\n",
       "      <td>10.000000</td>\n",
       "      <td>12.000000</td>\n",
       "      <td>3.000000</td>\n",
       "      <td>30.000000</td>\n",
       "      <td>0.000000</td>\n",
       "      <td>0.000000</td>\n",
       "      <td>3.000000</td>\n",
       "      <td>3.000000</td>\n",
       "      <td>0.000000</td>\n",
       "      <td>10.000000</td>\n",
       "      <td>11645.000000</td>\n",
       "    </tr>\n",
       "    <tr>\n",
       "      <th>50%</th>\n",
       "      <td>250.000000</td>\n",
       "      <td>46.347316</td>\n",
       "      <td>8.206372</td>\n",
       "      <td>2175.000000</td>\n",
       "      <td>1121.000000</td>\n",
       "      <td>18.000000</td>\n",
       "      <td>25.000000</td>\n",
       "      <td>9.000000</td>\n",
       "      <td>55.000000</td>\n",
       "      <td>3.000000</td>\n",
       "      <td>15.000000</td>\n",
       "      <td>7.000000</td>\n",
       "      <td>6.000000</td>\n",
       "      <td>1.000000</td>\n",
       "      <td>15.000000</td>\n",
       "      <td>18510.000000</td>\n",
       "    </tr>\n",
       "    <tr>\n",
       "      <th>75%</th>\n",
       "      <td>374.500000</td>\n",
       "      <td>47.327089</td>\n",
       "      <td>12.429237</td>\n",
       "      <td>2700.000000</td>\n",
       "      <td>1500.000000</td>\n",
       "      <td>30.000000</td>\n",
       "      <td>45.000000</td>\n",
       "      <td>21.000000</td>\n",
       "      <td>100.000000</td>\n",
       "      <td>6.000000</td>\n",
       "      <td>180.000000</td>\n",
       "      <td>14.000000</td>\n",
       "      <td>11.500000</td>\n",
       "      <td>4.000000</td>\n",
       "      <td>26.000000</td>\n",
       "      <td>32829.000000</td>\n",
       "    </tr>\n",
       "    <tr>\n",
       "      <th>max</th>\n",
       "      <td>499.000000</td>\n",
       "      <td>67.784406</td>\n",
       "      <td>176.876668</td>\n",
       "      <td>3914.000000</td>\n",
       "      <td>3286.000000</td>\n",
       "      <td>423.000000</td>\n",
       "      <td>239.000000</td>\n",
       "      <td>126.000000</td>\n",
       "      <td>600.000000</td>\n",
       "      <td>16.000000</td>\n",
       "      <td>2383.000000</td>\n",
       "      <td>89.000000</td>\n",
       "      <td>74.000000</td>\n",
       "      <td>40.000000</td>\n",
       "      <td>174.000000</td>\n",
       "      <td>252280.000000</td>\n",
       "    </tr>\n",
       "  </tbody>\n",
       "</table>\n",
       "</div>"
      ],
      "text/plain": [
       "               ID    Latitude   Longitude  Highest point  Lowest point   \n",
       "count  499.000000  499.000000  499.000000     499.000000    499.000000  \\\n",
       "mean   250.000000   43.205684   -6.006784    2160.589178   1200.631263   \n",
       "std    144.193157   15.975790   59.990459     774.339805    596.142294   \n",
       "min      1.000000  -45.054960 -149.740657     163.000000     36.000000   \n",
       "25%    125.500000   43.672650    1.380975    1594.000000    800.000000   \n",
       "50%    250.000000   46.347316    8.206372    2175.000000   1121.000000   \n",
       "75%    374.500000   47.327089   12.429237    2700.000000   1500.000000   \n",
       "max    499.000000   67.784406  176.876668    3914.000000   3286.000000   \n",
       "\n",
       "       Beginner slopes  Intermediate slopes  Difficult slopes  Total slopes   \n",
       "count       500.000000           499.000000        499.000000    499.000000  \\\n",
       "mean         32.602000            37.921844         16.164329     85.905812   \n",
       "std          50.482359            44.358524         20.115855    100.874157   \n",
       "min           0.000000             0.000000          0.000000      1.000000   \n",
       "25%          10.000000            12.000000          3.000000     30.000000   \n",
       "50%          18.000000            25.000000          9.000000     55.000000   \n",
       "75%          30.000000            45.000000         21.000000    100.000000   \n",
       "max         423.000000           239.000000        126.000000    600.000000   \n",
       "\n",
       "       Longest run  Snow cannons  Surface lifts  Chair lifts  Gondola lifts   \n",
       "count   499.000000    499.000000     499.000000   499.000000     499.000000  \\\n",
       "mean      3.545090    179.136273      11.282565     9.721443       3.258517   \n",
       "std       3.947887    372.321111      13.365360    11.461502       5.867967   \n",
       "min       0.000000      0.000000       0.000000     0.000000       0.000000   \n",
       "25%       0.000000      0.000000       3.000000     3.000000       0.000000   \n",
       "50%       3.000000     15.000000       7.000000     6.000000       1.000000   \n",
       "75%       6.000000    180.000000      14.000000    11.500000       4.000000   \n",
       "max      16.000000   2383.000000      89.000000    74.000000      40.000000   \n",
       "\n",
       "       Total lifts  Lift capacity  \n",
       "count   499.000000     499.000000  \n",
       "mean     24.262525   31650.961924  \n",
       "std      27.672736   40781.986019  \n",
       "min       0.000000       0.000000  \n",
       "25%      10.000000   11645.000000  \n",
       "50%      15.000000   18510.000000  \n",
       "75%      26.000000   32829.000000  \n",
       "max     174.000000  252280.000000  "
      ]
     },
     "execution_count": 4,
     "metadata": {},
     "output_type": "execute_result"
    }
   ],
   "source": [
    "ski.describe()"
   ]
  },
  {
   "cell_type": "code",
   "execution_count": 5,
   "id": "941252aa",
   "metadata": {},
   "outputs": [
    {
     "name": "stdout",
     "output_type": "stream",
     "text": [
      "<class 'pandas.core.frame.DataFrame'>\n",
      "RangeIndex: 500 entries, 0 to 499\n",
      "Data columns (total 24 columns):\n",
      " #   Column               Non-Null Count  Dtype  \n",
      "---  ------               --------------  -----  \n",
      " 0   ID                   499 non-null    float64\n",
      " 1   Resort               499 non-null    object \n",
      " 2   Latitude             499 non-null    float64\n",
      " 3   Longitude            499 non-null    float64\n",
      " 4   Country              499 non-null    object \n",
      " 5   Continent            499 non-null    object \n",
      " 6   Price                499 non-null    object \n",
      " 7   Highest point        499 non-null    float64\n",
      " 8   Lowest point         499 non-null    float64\n",
      " 9   Beginner slopes      500 non-null    int64  \n",
      " 10  Intermediate slopes  499 non-null    float64\n",
      " 11  Difficult slopes     499 non-null    float64\n",
      " 12  Total slopes         499 non-null    float64\n",
      " 13  Longest run          499 non-null    float64\n",
      " 14  Snow cannons         499 non-null    float64\n",
      " 15  Surface lifts        499 non-null    float64\n",
      " 16  Chair lifts          499 non-null    float64\n",
      " 17  Gondola lifts        499 non-null    float64\n",
      " 18  Total lifts          499 non-null    float64\n",
      " 19  Lift capacity        499 non-null    float64\n",
      " 20  Child friendly       499 non-null    object \n",
      " 21  Snowparks            499 non-null    object \n",
      " 22  Nightskiing          499 non-null    object \n",
      " 23  Summer skiing        499 non-null    object \n",
      "dtypes: float64(15), int64(1), object(8)\n",
      "memory usage: 93.9+ KB\n"
     ]
    }
   ],
   "source": [
    "ski.info()"
   ]
  },
  {
   "cell_type": "code",
   "execution_count": 6,
   "id": "968df997",
   "metadata": {},
   "outputs": [
    {
     "data": {
      "text/plain": [
       "(500, 24)"
      ]
     },
     "execution_count": 6,
     "metadata": {},
     "output_type": "execute_result"
    }
   ],
   "source": [
    "ski.shape"
   ]
  },
  {
   "cell_type": "code",
   "execution_count": 7,
   "id": "0794cd7c",
   "metadata": {},
   "outputs": [
    {
     "data": {
      "text/plain": [
       "ID                     1\n",
       "Resort                 1\n",
       "Latitude               1\n",
       "Longitude              1\n",
       "Country                1\n",
       "Continent              1\n",
       "Price                  1\n",
       "Highest point          1\n",
       "Lowest point           1\n",
       "Beginner slopes        0\n",
       "Intermediate slopes    1\n",
       "Difficult slopes       1\n",
       "Total slopes           1\n",
       "Longest run            1\n",
       "Snow cannons           1\n",
       "Surface lifts          1\n",
       "Chair lifts            1\n",
       "Gondola lifts          1\n",
       "Total lifts            1\n",
       "Lift capacity          1\n",
       "Child friendly         1\n",
       "Snowparks              1\n",
       "Nightskiing            1\n",
       "Summer skiing          1\n",
       "dtype: int64"
      ]
     },
     "execution_count": 7,
     "metadata": {},
     "output_type": "execute_result"
    }
   ],
   "source": [
    "#Show count of missing values in each colum\n",
    "ski.isna().sum()"
   ]
  },
  {
   "cell_type": "markdown",
   "id": "3f1b32a8",
   "metadata": {},
   "source": [
    "1. Data clean up – correcting the data types"
   ]
  },
  {
   "cell_type": "code",
   "execution_count": 8,
   "id": "d199b1c8",
   "metadata": {},
   "outputs": [
    {
     "data": {
      "text/html": [
       "<div>\n",
       "<style scoped>\n",
       "    .dataframe tbody tr th:only-of-type {\n",
       "        vertical-align: middle;\n",
       "    }\n",
       "\n",
       "    .dataframe tbody tr th {\n",
       "        vertical-align: top;\n",
       "    }\n",
       "\n",
       "    .dataframe thead th {\n",
       "        text-align: right;\n",
       "    }\n",
       "</style>\n",
       "<table border=\"1\" class=\"dataframe\">\n",
       "  <thead>\n",
       "    <tr style=\"text-align: right;\">\n",
       "      <th></th>\n",
       "      <th>ID</th>\n",
       "      <th>Resort</th>\n",
       "      <th>Latitude</th>\n",
       "      <th>Longitude</th>\n",
       "      <th>Country</th>\n",
       "      <th>Continent</th>\n",
       "      <th>Price</th>\n",
       "      <th>Highest point</th>\n",
       "      <th>Lowest point</th>\n",
       "      <th>Beginner slopes</th>\n",
       "      <th>...</th>\n",
       "      <th>Snow cannons</th>\n",
       "      <th>Surface lifts</th>\n",
       "      <th>Chair lifts</th>\n",
       "      <th>Gondola lifts</th>\n",
       "      <th>Total lifts</th>\n",
       "      <th>Lift capacity</th>\n",
       "      <th>Child friendly</th>\n",
       "      <th>Snowparks</th>\n",
       "      <th>Nightskiing</th>\n",
       "      <th>Summer skiing</th>\n",
       "    </tr>\n",
       "  </thead>\n",
       "  <tbody>\n",
       "    <tr>\n",
       "      <th>0</th>\n",
       "      <td>1.0</td>\n",
       "      <td>Hemsedal</td>\n",
       "      <td>60.928244</td>\n",
       "      <td>8.383487</td>\n",
       "      <td>Norway</td>\n",
       "      <td>Europe</td>\n",
       "      <td>? 46.00</td>\n",
       "      <td>1450.0</td>\n",
       "      <td>620.0</td>\n",
       "      <td>29</td>\n",
       "      <td>...</td>\n",
       "      <td>325.0</td>\n",
       "      <td>15.0</td>\n",
       "      <td>6.0</td>\n",
       "      <td>0.0</td>\n",
       "      <td>21.0</td>\n",
       "      <td>22921.0</td>\n",
       "      <td>Yes</td>\n",
       "      <td>Yes</td>\n",
       "      <td>Yes</td>\n",
       "      <td>No</td>\n",
       "    </tr>\n",
       "    <tr>\n",
       "      <th>1</th>\n",
       "      <td>2.0</td>\n",
       "      <td>Geilosiden Geilo</td>\n",
       "      <td>60.534526</td>\n",
       "      <td>8.206372</td>\n",
       "      <td>Norway</td>\n",
       "      <td>Europe</td>\n",
       "      <td>? 44.00</td>\n",
       "      <td>1178.0</td>\n",
       "      <td>800.0</td>\n",
       "      <td>18</td>\n",
       "      <td>...</td>\n",
       "      <td>100.0</td>\n",
       "      <td>18.0</td>\n",
       "      <td>6.0</td>\n",
       "      <td>0.0</td>\n",
       "      <td>24.0</td>\n",
       "      <td>14225.0</td>\n",
       "      <td>Yes</td>\n",
       "      <td>Yes</td>\n",
       "      <td>Yes</td>\n",
       "      <td>No</td>\n",
       "    </tr>\n",
       "    <tr>\n",
       "      <th>2</th>\n",
       "      <td>3.0</td>\n",
       "      <td>Golm</td>\n",
       "      <td>47.057810</td>\n",
       "      <td>9.828167</td>\n",
       "      <td>Austria</td>\n",
       "      <td>Europe</td>\n",
       "      <td>? 48.00</td>\n",
       "      <td>2110.0</td>\n",
       "      <td>650.0</td>\n",
       "      <td>13</td>\n",
       "      <td>...</td>\n",
       "      <td>123.0</td>\n",
       "      <td>4.0</td>\n",
       "      <td>4.0</td>\n",
       "      <td>3.0</td>\n",
       "      <td>11.0</td>\n",
       "      <td>16240.0</td>\n",
       "      <td>Yes</td>\n",
       "      <td>No</td>\n",
       "      <td>No</td>\n",
       "      <td>No</td>\n",
       "    </tr>\n",
       "  </tbody>\n",
       "</table>\n",
       "<p>3 rows × 24 columns</p>\n",
       "</div>"
      ],
      "text/plain": [
       "    ID            Resort   Latitude  Longitude  Country Continent    Price   \n",
       "0  1.0          Hemsedal  60.928244   8.383487   Norway    Europe  ? 46.00  \\\n",
       "1  2.0  Geilosiden Geilo  60.534526   8.206372   Norway    Europe  ? 44.00   \n",
       "2  3.0              Golm  47.057810   9.828167  Austria    Europe  ? 48.00   \n",
       "\n",
       "   Highest point  Lowest point  Beginner slopes  ...  Snow cannons   \n",
       "0         1450.0         620.0               29  ...         325.0  \\\n",
       "1         1178.0         800.0               18  ...         100.0   \n",
       "2         2110.0         650.0               13  ...         123.0   \n",
       "\n",
       "   Surface lifts  Chair lifts  Gondola lifts  Total lifts  Lift capacity   \n",
       "0           15.0          6.0            0.0         21.0        22921.0  \\\n",
       "1           18.0          6.0            0.0         24.0        14225.0   \n",
       "2            4.0          4.0            3.0         11.0        16240.0   \n",
       "\n",
       "   Child friendly  Snowparks  Nightskiing  Summer skiing  \n",
       "0             Yes        Yes          Yes             No  \n",
       "1             Yes        Yes          Yes             No  \n",
       "2             Yes         No           No             No  \n",
       "\n",
       "[3 rows x 24 columns]"
      ]
     },
     "execution_count": 8,
     "metadata": {},
     "output_type": "execute_result"
    }
   ],
   "source": [
    "ski.head(3)"
   ]
  },
  {
   "cell_type": "code",
   "execution_count": 9,
   "id": "a3703188",
   "metadata": {},
   "outputs": [
    {
     "name": "stdout",
     "output_type": "stream",
     "text": [
      "<class 'pandas.core.frame.DataFrame'>\n",
      "RangeIndex: 500 entries, 0 to 499\n",
      "Data columns (total 24 columns):\n",
      " #   Column               Non-Null Count  Dtype  \n",
      "---  ------               --------------  -----  \n",
      " 0   ID                   499 non-null    float64\n",
      " 1   Resort               499 non-null    object \n",
      " 2   Latitude             499 non-null    float64\n",
      " 3   Longitude            499 non-null    float64\n",
      " 4   Country              499 non-null    object \n",
      " 5   Continent            499 non-null    object \n",
      " 6   Price                499 non-null    object \n",
      " 7   Highest point        499 non-null    float64\n",
      " 8   Lowest point         499 non-null    float64\n",
      " 9   Beginner slopes      500 non-null    int64  \n",
      " 10  Intermediate slopes  499 non-null    float64\n",
      " 11  Difficult slopes     499 non-null    float64\n",
      " 12  Total slopes         499 non-null    float64\n",
      " 13  Longest run          499 non-null    float64\n",
      " 14  Snow cannons         499 non-null    float64\n",
      " 15  Surface lifts        499 non-null    float64\n",
      " 16  Chair lifts          499 non-null    float64\n",
      " 17  Gondola lifts        499 non-null    float64\n",
      " 18  Total lifts          499 non-null    float64\n",
      " 19  Lift capacity        499 non-null    float64\n",
      " 20  Child friendly       499 non-null    object \n",
      " 21  Snowparks            499 non-null    object \n",
      " 22  Nightskiing          499 non-null    object \n",
      " 23  Summer skiing        499 non-null    object \n",
      "dtypes: float64(15), int64(1), object(8)\n",
      "memory usage: 93.9+ KB\n"
     ]
    }
   ],
   "source": [
    "ski.info()"
   ]
  },
  {
   "cell_type": "markdown",
   "id": "2c0685b0",
   "metadata": {},
   "source": [
    "From this information we can see that column Price have numeric data so we can convert this column into numeric type. Child friendly,Snowparks,Nightskiing,Summer skiing columns are categorical data we will converted into numerical data"
   ]
  },
  {
   "cell_type": "code",
   "execution_count": 13,
   "id": "9d11da8b",
   "metadata": {},
   "outputs": [],
   "source": [
    "ski['Price']=pd.to_numeric(ski['Price'].replace('?',' '))\n"
   ]
  },
  {
   "cell_type": "code",
   "execution_count": 14,
   "id": "d707de3d",
   "metadata": {},
   "outputs": [
    {
     "name": "stdout",
     "output_type": "stream",
     "text": [
      "<class 'pandas.core.frame.DataFrame'>\n",
      "RangeIndex: 500 entries, 0 to 499\n",
      "Data columns (total 24 columns):\n",
      " #   Column               Non-Null Count  Dtype  \n",
      "---  ------               --------------  -----  \n",
      " 0   ID                   499 non-null    float64\n",
      " 1   Resort               499 non-null    object \n",
      " 2   Latitude             499 non-null    float64\n",
      " 3   Longitude            499 non-null    float64\n",
      " 4   Country              499 non-null    object \n",
      " 5   Continent            499 non-null    object \n",
      " 6   Price                499 non-null    float64\n",
      " 7   Highest point        499 non-null    float64\n",
      " 8   Lowest point         499 non-null    float64\n",
      " 9   Beginner slopes      500 non-null    int64  \n",
      " 10  Intermediate slopes  499 non-null    float64\n",
      " 11  Difficult slopes     499 non-null    float64\n",
      " 12  Total slopes         499 non-null    float64\n",
      " 13  Longest run          499 non-null    float64\n",
      " 14  Snow cannons         499 non-null    float64\n",
      " 15  Surface lifts        499 non-null    float64\n",
      " 16  Chair lifts          499 non-null    float64\n",
      " 17  Gondola lifts        499 non-null    float64\n",
      " 18  Total lifts          499 non-null    float64\n",
      " 19  Lift capacity        499 non-null    float64\n",
      " 20  Child friendly       499 non-null    object \n",
      " 21  Snowparks            499 non-null    object \n",
      " 22  Nightskiing          499 non-null    object \n",
      " 23  Summer skiing        499 non-null    object \n",
      "dtypes: float64(16), int64(1), object(7)\n",
      "memory usage: 93.9+ KB\n"
     ]
    }
   ],
   "source": [
    "ski.info()"
   ]
  },
  {
   "cell_type": "markdown",
   "id": "341e2083",
   "metadata": {},
   "source": [
    "    2. Converting Categorial Data into Numerical Data"
   ]
  },
  {
   "cell_type": "code",
   "execution_count": 15,
   "id": "3e88d797",
   "metadata": {},
   "outputs": [],
   "source": [
    "ski['Child friendly']=ski['Child friendly'].replace({'Yes':1,'No':0})\n",
    "ski['Child friendly']=ski['Child friendly'].fillna(-1).astype(int)"
   ]
  },
  {
   "cell_type": "code",
   "execution_count": 16,
   "id": "6fdf8be7",
   "metadata": {},
   "outputs": [],
   "source": [
    "ski['Snowparks']=ski['Snowparks'].replace({'Yes':1,'No':0})\n",
    "ski['Snowparks']=ski['Snowparks'].fillna(-1).astype(int)"
   ]
  },
  {
   "cell_type": "code",
   "execution_count": 17,
   "id": "0e1ab3e2",
   "metadata": {},
   "outputs": [],
   "source": [
    "ski['Nightskiing']=ski['Nightskiing'].replace({'Yes':1,'No':0})\n",
    "ski['Nightskiing']=ski['Nightskiing'].fillna(-1).astype(int)"
   ]
  },
  {
   "cell_type": "code",
   "execution_count": 18,
   "id": "32c54948",
   "metadata": {},
   "outputs": [],
   "source": [
    "ski['Summer skiing']=ski['Summer skiing'].replace({'Yes':1,'No':0})\n",
    "ski['Summer skiing']=ski['Summer skiing'].fillna(-1).astype(int)\n"
   ]
  },
  {
   "cell_type": "code",
   "execution_count": 19,
   "id": "55dffc9f",
   "metadata": {},
   "outputs": [
    {
     "name": "stdout",
     "output_type": "stream",
     "text": [
      "<class 'pandas.core.frame.DataFrame'>\n",
      "RangeIndex: 500 entries, 0 to 499\n",
      "Data columns (total 24 columns):\n",
      " #   Column               Non-Null Count  Dtype  \n",
      "---  ------               --------------  -----  \n",
      " 0   ID                   499 non-null    float64\n",
      " 1   Resort               499 non-null    object \n",
      " 2   Latitude             499 non-null    float64\n",
      " 3   Longitude            499 non-null    float64\n",
      " 4   Country              499 non-null    object \n",
      " 5   Continent            499 non-null    object \n",
      " 6   Price                499 non-null    float64\n",
      " 7   Highest point        499 non-null    float64\n",
      " 8   Lowest point         499 non-null    float64\n",
      " 9   Beginner slopes      500 non-null    int64  \n",
      " 10  Intermediate slopes  499 non-null    float64\n",
      " 11  Difficult slopes     499 non-null    float64\n",
      " 12  Total slopes         499 non-null    float64\n",
      " 13  Longest run          499 non-null    float64\n",
      " 14  Snow cannons         499 non-null    float64\n",
      " 15  Surface lifts        499 non-null    float64\n",
      " 16  Chair lifts          499 non-null    float64\n",
      " 17  Gondola lifts        499 non-null    float64\n",
      " 18  Total lifts          499 non-null    float64\n",
      " 19  Lift capacity        499 non-null    float64\n",
      " 20  Child friendly       500 non-null    int32  \n",
      " 21  Snowparks            500 non-null    int32  \n",
      " 22  Nightskiing          500 non-null    int32  \n",
      " 23  Summer skiing        500 non-null    int32  \n",
      "dtypes: float64(16), int32(4), int64(1), object(3)\n",
      "memory usage: 86.1+ KB\n"
     ]
    }
   ],
   "source": [
    "ski.info()"
   ]
  },
  {
   "cell_type": "code",
   "execution_count": 25,
   "id": "a0d8b217",
   "metadata": {},
   "outputs": [
    {
     "data": {
      "text/plain": [
       "Text(0.5, 1.0, 'Price Distribution')"
      ]
     },
     "execution_count": 25,
     "metadata": {},
     "output_type": "execute_result"
    },
    {
     "data": {
      "image/png": "[encoded data removed]",
      "text/plain": [
       "<Figure size 640x480 with 1 Axes>"
      ]
     },
     "metadata": {},
     "output_type": "display_data"
    }
   ],
   "source": [
    "ski.boxplot('Price')\n",
    "plt.title('Price Distribution')"
   ]
  },
  {
   "cell_type": "markdown",
   "id": "3b27a16e",
   "metadata": {},
   "source": [
    "So, after ploting the boxplot for the Price column, we can see that there are some outliers present in the price column And from this we can assume that, there are outliers beyond value 80"
   ]
  },
  {
   "cell_type": "markdown",
   "id": "07ab7d9f",
   "metadata": {},
   "source": [
    "Do you expect resort to cost more than $120? Check out these cases"
   ]
  },
  {
   "cell_type": "code",
   "execution_count": 26,
   "id": "e802fb8b",
   "metadata": {},
   "outputs": [
    {
     "data": {
      "text/html": [
       "<div>\n",
       "<style scoped>\n",
       "    .dataframe tbody tr th:only-of-type {\n",
       "        vertical-align: middle;\n",
       "    }\n",
       "\n",
       "    .dataframe tbody tr th {\n",
       "        vertical-align: top;\n",
       "    }\n",
       "\n",
       "    .dataframe thead th {\n",
       "        text-align: right;\n",
       "    }\n",
       "</style>\n",
       "<table border=\"1\" class=\"dataframe\">\n",
       "  <thead>\n",
       "    <tr style=\"text-align: right;\">\n",
       "      <th></th>\n",
       "      <th>ID</th>\n",
       "      <th>Resort</th>\n",
       "      <th>Latitude</th>\n",
       "      <th>Longitude</th>\n",
       "      <th>Country</th>\n",
       "      <th>Continent</th>\n",
       "      <th>Price</th>\n",
       "      <th>Highest point</th>\n",
       "      <th>Lowest point</th>\n",
       "      <th>Beginner slopes</th>\n",
       "      <th>...</th>\n",
       "      <th>Snow cannons</th>\n",
       "      <th>Surface lifts</th>\n",
       "      <th>Chair lifts</th>\n",
       "      <th>Gondola lifts</th>\n",
       "      <th>Total lifts</th>\n",
       "      <th>Lift capacity</th>\n",
       "      <th>Child friendly</th>\n",
       "      <th>Snowparks</th>\n",
       "      <th>Nightskiing</th>\n",
       "      <th>Summer skiing</th>\n",
       "    </tr>\n",
       "  </thead>\n",
       "  <tbody>\n",
       "    <tr>\n",
       "      <th>87</th>\n",
       "      <td>88.0</td>\n",
       "      <td>Aspen Mountain</td>\n",
       "      <td>39.176099</td>\n",
       "      <td>-106.829206</td>\n",
       "      <td>United States</td>\n",
       "      <td>North America</td>\n",
       "      <td>124.0</td>\n",
       "      <td>3418.0</td>\n",
       "      <td>2422.0</td>\n",
       "      <td>0</td>\n",
       "      <td>...</td>\n",
       "      <td>0.0</td>\n",
       "      <td>0.0</td>\n",
       "      <td>7.0</td>\n",
       "      <td>1.0</td>\n",
       "      <td>8.0</td>\n",
       "      <td>13400.0</td>\n",
       "      <td>1</td>\n",
       "      <td>0</td>\n",
       "      <td>0</td>\n",
       "      <td>0</td>\n",
       "    </tr>\n",
       "    <tr>\n",
       "      <th>88</th>\n",
       "      <td>89.0</td>\n",
       "      <td>Aspen Highlands</td>\n",
       "      <td>61.103269</td>\n",
       "      <td>-149.740657</td>\n",
       "      <td>United States</td>\n",
       "      <td>North America</td>\n",
       "      <td>124.0</td>\n",
       "      <td>3559.0</td>\n",
       "      <td>2451.0</td>\n",
       "      <td>24</td>\n",
       "      <td>...</td>\n",
       "      <td>0.0</td>\n",
       "      <td>0.0</td>\n",
       "      <td>5.0</td>\n",
       "      <td>0.0</td>\n",
       "      <td>5.0</td>\n",
       "      <td>7085.0</td>\n",
       "      <td>1</td>\n",
       "      <td>0</td>\n",
       "      <td>0</td>\n",
       "      <td>0</td>\n",
       "    </tr>\n",
       "    <tr>\n",
       "      <th>90</th>\n",
       "      <td>91.0</td>\n",
       "      <td>Vail</td>\n",
       "      <td>39.644021</td>\n",
       "      <td>-106.380167</td>\n",
       "      <td>United States</td>\n",
       "      <td>North America</td>\n",
       "      <td>127.0</td>\n",
       "      <td>3433.0</td>\n",
       "      <td>2457.0</td>\n",
       "      <td>57</td>\n",
       "      <td>...</td>\n",
       "      <td>0.0</td>\n",
       "      <td>9.0</td>\n",
       "      <td>20.0</td>\n",
       "      <td>2.0</td>\n",
       "      <td>31.0</td>\n",
       "      <td>54858.0</td>\n",
       "      <td>1</td>\n",
       "      <td>1</td>\n",
       "      <td>0</td>\n",
       "      <td>0</td>\n",
       "    </tr>\n",
       "    <tr>\n",
       "      <th>93</th>\n",
       "      <td>94.0</td>\n",
       "      <td>Beaver Creek</td>\n",
       "      <td>39.604879</td>\n",
       "      <td>-106.515002</td>\n",
       "      <td>United States</td>\n",
       "      <td>North America</td>\n",
       "      <td>141.0</td>\n",
       "      <td>3488.0</td>\n",
       "      <td>2255.0</td>\n",
       "      <td>28</td>\n",
       "      <td>...</td>\n",
       "      <td>0.0</td>\n",
       "      <td>8.0</td>\n",
       "      <td>13.0</td>\n",
       "      <td>3.0</td>\n",
       "      <td>24.0</td>\n",
       "      <td>38200.0</td>\n",
       "      <td>1</td>\n",
       "      <td>1</td>\n",
       "      <td>0</td>\n",
       "      <td>0</td>\n",
       "    </tr>\n",
       "    <tr>\n",
       "      <th>97</th>\n",
       "      <td>98.0</td>\n",
       "      <td>Breckenridge</td>\n",
       "      <td>32.755839</td>\n",
       "      <td>-98.903255</td>\n",
       "      <td>United States</td>\n",
       "      <td>North America</td>\n",
       "      <td>140.0</td>\n",
       "      <td>3914.0</td>\n",
       "      <td>2926.0</td>\n",
       "      <td>28</td>\n",
       "      <td>...</td>\n",
       "      <td>0.0</td>\n",
       "      <td>15.0</td>\n",
       "      <td>18.0</td>\n",
       "      <td>1.0</td>\n",
       "      <td>34.0</td>\n",
       "      <td>43880.0</td>\n",
       "      <td>1</td>\n",
       "      <td>1</td>\n",
       "      <td>0</td>\n",
       "      <td>0</td>\n",
       "    </tr>\n",
       "    <tr>\n",
       "      <th>154</th>\n",
       "      <td>155.0</td>\n",
       "      <td>Snowmass</td>\n",
       "      <td>39.331651</td>\n",
       "      <td>-106.986156</td>\n",
       "      <td>United States</td>\n",
       "      <td>North America</td>\n",
       "      <td>124.0</td>\n",
       "      <td>3813.0</td>\n",
       "      <td>2473.0</td>\n",
       "      <td>14</td>\n",
       "      <td>...</td>\n",
       "      <td>0.0</td>\n",
       "      <td>6.0</td>\n",
       "      <td>13.0</td>\n",
       "      <td>2.0</td>\n",
       "      <td>21.0</td>\n",
       "      <td>27765.0</td>\n",
       "      <td>1</td>\n",
       "      <td>1</td>\n",
       "      <td>1</td>\n",
       "      <td>0</td>\n",
       "    </tr>\n",
       "  </tbody>\n",
       "</table>\n",
       "<p>6 rows × 24 columns</p>\n",
       "</div>"
      ],
      "text/plain": [
       "        ID           Resort   Latitude   Longitude        Country   \n",
       "87    88.0   Aspen Mountain  39.176099 -106.829206  United States  \\\n",
       "88    89.0  Aspen Highlands  61.103269 -149.740657  United States   \n",
       "90    91.0             Vail  39.644021 -106.380167  United States   \n",
       "93    94.0     Beaver Creek  39.604879 -106.515002  United States   \n",
       "97    98.0     Breckenridge  32.755839  -98.903255  United States   \n",
       "154  155.0         Snowmass  39.331651 -106.986156  United States   \n",
       "\n",
       "         Continent  Price  Highest point  Lowest point  Beginner slopes  ...   \n",
       "87   North America  124.0         3418.0        2422.0                0  ...  \\\n",
       "88   North America  124.0         3559.0        2451.0               24  ...   \n",
       "90   North America  127.0         3433.0        2457.0               57  ...   \n",
       "93   North America  141.0         3488.0        2255.0               28  ...   \n",
       "97   North America  140.0         3914.0        2926.0               28  ...   \n",
       "154  North America  124.0         3813.0        2473.0               14  ...   \n",
       "\n",
       "     Snow cannons  Surface lifts  Chair lifts  Gondola lifts  Total lifts   \n",
       "87            0.0            0.0          7.0            1.0          8.0  \\\n",
       "88            0.0            0.0          5.0            0.0          5.0   \n",
       "90            0.0            9.0         20.0            2.0         31.0   \n",
       "93            0.0            8.0         13.0            3.0         24.0   \n",
       "97            0.0           15.0         18.0            1.0         34.0   \n",
       "154           0.0            6.0         13.0            2.0         21.0   \n",
       "\n",
       "     Lift capacity  Child friendly  Snowparks  Nightskiing  Summer skiing  \n",
       "87         13400.0               1          0            0              0  \n",
       "88          7085.0               1          0            0              0  \n",
       "90         54858.0               1          1            0              0  \n",
       "93         38200.0               1          1            0              0  \n",
       "97         43880.0               1          1            0              0  \n",
       "154        27765.0               1          1            1              0  \n",
       "\n",
       "[6 rows x 24 columns]"
      ]
     },
     "execution_count": 26,
     "metadata": {},
     "output_type": "execute_result"
    }
   ],
   "source": [
    "ski[ski['Price']>120]"
   ]
  },
  {
   "cell_type": "code",
   "execution_count": 27,
   "id": "7fa33c59",
   "metadata": {},
   "outputs": [
    {
     "data": {
      "text/plain": [
       "6"
      ]
     },
     "execution_count": 27,
     "metadata": {},
     "output_type": "execute_result"
    }
   ],
   "source": [
    "sum(ski['Price']>120)"
   ]
  },
  {
   "cell_type": "code",
   "execution_count": 28,
   "id": "36472486",
   "metadata": {},
   "outputs": [
    {
     "data": {
      "text/plain": [
       "Index([87, 88, 90, 93, 97, 154], dtype='int64')"
      ]
     },
     "execution_count": 28,
     "metadata": {},
     "output_type": "execute_result"
    }
   ],
   "source": [
    "ski[ski['Price']>120].index"
   ]
  },
  {
   "cell_type": "markdown",
   "id": "d9f07c92",
   "metadata": {},
   "source": [
    "In this case we are not removing outliers because resort can be highly expensive."
   ]
  },
  {
   "cell_type": "markdown",
   "id": "caa26333",
   "metadata": {},
   "source": [
    "Data Anlaysis to answer Business Questions."
   ]
  },
  {
   "cell_type": "markdown",
   "id": "f17395b2",
   "metadata": {},
   "source": [
    "    1. Continent having more number of resorts"
   ]
  },
  {
   "cell_type": "code",
   "execution_count": 29,
   "id": "9d072967",
   "metadata": {},
   "outputs": [
    {
     "data": {
      "text/plain": [
       "Text(0, 0.5, 'Count of Resorts')"
      ]
     },
     "execution_count": 29,
     "metadata": {},
     "output_type": "execute_result"
    },
    {
     "data": {
      "image/png": "[encoded data removed]",
      "text/plain": [
       "<Figure size 640x480 with 1 Axes>"
      ]
     },
     "metadata": {},
     "output_type": "display_data"
    }
   ],
   "source": [
    "data=ski.groupby('Continent')['Resort'].count()\n",
    "color=['Red','Yellow','Green','Blue','Grey']\n",
    "\n",
    "data.plot(kind='bar',color = color)\n",
    "\n",
    "plt.title('Number of Resort per Continent')\n",
    "plt.xlabel('Continent')\n",
    "plt.ylabel('Count of Resorts')"
   ]
  },
  {
   "cell_type": "markdown",
   "id": "110fbad5",
   "metadata": {},
   "source": [
    "So as per above bar graph Europe is having high number of resort comare to all other continents."
   ]
  },
  {
   "cell_type": "markdown",
   "id": "02a69c02",
   "metadata": {},
   "source": [
    "    2. Show most affordable resort "
   ]
  },
  {
   "cell_type": "code",
   "execution_count": 30,
   "id": "8e3702f0",
   "metadata": {},
   "outputs": [
    {
     "name": "stdout",
     "output_type": "stream",
     "text": [
      "Perisher   Australia\n"
     ]
    }
   ],
   "source": [
    "exp=ski['Price'].idxmin()\n",
    "exp1=ski.loc[exp,'Resort']\n",
    "exp2=ski.loc[exp,'Country']\n",
    "print(exp1,' ' ,exp2)"
   ]
  },
  {
   "cell_type": "markdown",
   "id": "3e501206",
   "metadata": {},
   "source": [
    "From above python code, the most affordable resort is Perisher & it's located in Australia."
   ]
  },
  {
   "cell_type": "markdown",
   "id": "37927d4a",
   "metadata": {},
   "source": [
    "    3. (i) Number of slope in beginner's range."
   ]
  },
  {
   "cell_type": "code",
   "execution_count": 31,
   "id": "b8de85b3",
   "metadata": {},
   "outputs": [
    {
     "name": "stderr",
     "output_type": "stream",
     "text": [
      "C:\\Users\\modave\\AppData\\Local\\Temp\\ipykernel_12216\\2501968441.py:1: UserWarning: \n",
      "\n",
      "`distplot` is a deprecated function and will be removed in seaborn v0.14.0.\n",
      "\n",
      "Please adapt your code to use either `displot` (a figure-level function with\n",
      "similar flexibility) or `histplot` (an axes-level function for histograms).\n",
      "\n",
      "For a guide to updating your code to use the new functions, please see\n",
      "https://gist.github.com/mwaskom/de44147ed2974457ad6372750bbe5751\n",
      "\n",
      "  sns.distplot(ski['Beginner slopes'])\n"
     ]
    },
    {
     "data": {
      "text/plain": [
       "Text(0, 0.5, 'Density')"
      ]
     },
     "execution_count": 31,
     "metadata": {},
     "output_type": "execute_result"
    },
    {
     "data": {
      "image/png": "[encoded data removed]",
      "text/plain": [
       "<Figure size 640x480 with 1 Axes>"
      ]
     },
     "metadata": {},
     "output_type": "display_data"
    }
   ],
   "source": [
    "sns.distplot(ski['Beginner slopes'])\n",
    "plt.title('Distribution of Beginner Slopes')\n",
    "plt.xlabel('Number of Beginner Slopes')\n",
    "plt.ylabel('Density')"
   ]
  },
  {
   "cell_type": "markdown",
   "id": "396276d8",
   "metadata": {},
   "source": [
    "From the above plot we can see that spike is high within 50 clinometer. As slope height can be measure by clinometer. So, most of the beginner slope in all contients are having height within 50 clinometer."
   ]
  },
  {
   "cell_type": "markdown",
   "id": "1b0e1957",
   "metadata": {},
   "source": [
    "(ii) Number of slope in Intermediate's range."
   ]
  },
  {
   "cell_type": "code",
   "execution_count": 32,
   "id": "cb96edb9",
   "metadata": {},
   "outputs": [
    {
     "name": "stderr",
     "output_type": "stream",
     "text": [
      "C:\\Users\\modave\\AppData\\Local\\Temp\\ipykernel_12216\\2828189465.py:1: UserWarning: \n",
      "\n",
      "`distplot` is a deprecated function and will be removed in seaborn v0.14.0.\n",
      "\n",
      "Please adapt your code to use either `displot` (a figure-level function with\n",
      "similar flexibility) or `histplot` (an axes-level function for histograms).\n",
      "\n",
      "For a guide to updating your code to use the new functions, please see\n",
      "https://gist.github.com/mwaskom/de44147ed2974457ad6372750bbe5751\n",
      "\n",
      "  sns.distplot(ski['Intermediate slopes'])\n"
     ]
    },
    {
     "data": {
      "text/plain": [
       "Text(0, 0.5, 'Density')"
      ]
     },
     "execution_count": 32,
     "metadata": {},
     "output_type": "execute_result"
    },
    {
     "data": {
      "image/png": "[encoded data removed]",
      "text/plain": [
       "<Figure size 640x480 with 1 Axes>"
      ]
     },
     "metadata": {},
     "output_type": "display_data"
    }
   ],
   "source": [
    "sns.distplot(ski['Intermediate slopes'])\n",
    "plt.title('Distribution of Intermediate Slopes')\n",
    "plt.xlabel('Number of Intermediate Slopes')\n",
    "plt.ylabel('Density')"
   ]
  },
  {
   "cell_type": "markdown",
   "id": "e423c576",
   "metadata": {},
   "source": [
    "    (iii) Number of slope in Difficult's range."
   ]
  },
  {
   "cell_type": "code",
   "execution_count": 33,
   "id": "73b02a1c",
   "metadata": {},
   "outputs": [
    {
     "name": "stderr",
     "output_type": "stream",
     "text": [
      "C:\\Users\\modave\\AppData\\Local\\Temp\\ipykernel_12216\\1612183372.py:1: UserWarning: \n",
      "\n",
      "`distplot` is a deprecated function and will be removed in seaborn v0.14.0.\n",
      "\n",
      "Please adapt your code to use either `displot` (a figure-level function with\n",
      "similar flexibility) or `histplot` (an axes-level function for histograms).\n",
      "\n",
      "For a guide to updating your code to use the new functions, please see\n",
      "https://gist.github.com/mwaskom/de44147ed2974457ad6372750bbe5751\n",
      "\n",
      "  sns.distplot(ski['Difficult slopes'])\n"
     ]
    },
    {
     "data": {
      "text/plain": [
       "Text(0, 0.5, 'Density')"
      ]
     },
     "execution_count": 33,
     "metadata": {},
     "output_type": "execute_result"
    },
    {
     "data": {
      "image/png": "[encoded data removed]",
      "text/plain": [
       "<Figure size 640x480 with 1 Axes>"
      ]
     },
     "metadata": {},
     "output_type": "display_data"
    }
   ],
   "source": [
    "sns.distplot(ski['Difficult slopes'])\n",
    "plt.title('Distribution of Difficult Slopes')\n",
    "plt.xlabel('Number of Difficult Slopes')\n",
    "plt.ylabel('Density')"
   ]
  },
  {
   "cell_type": "markdown",
   "id": "eeaf0845",
   "metadata": {},
   "source": [
    "From the above plot we can see that spike is high within 20 clinometer.So, most of the difficult slope in all contients are having height within 20 clinometer."
   ]
  },
  {
   "cell_type": "code",
   "execution_count": 34,
   "id": "f2c1d89a",
   "metadata": {},
   "outputs": [
    {
     "name": "stderr",
     "output_type": "stream",
     "text": [
      "C:\\Users\\modave\\AppData\\Local\\Temp\\ipykernel_12216\\2758497676.py:3: UserWarning: \n",
      "\n",
      "`distplot` is a deprecated function and will be removed in seaborn v0.14.0.\n",
      "\n",
      "Please adapt your code to use either `displot` (a figure-level function with\n",
      "similar flexibility) or `histplot` (an axes-level function for histograms).\n",
      "\n",
      "For a guide to updating your code to use the new functions, please see\n",
      "https://gist.github.com/mwaskom/de44147ed2974457ad6372750bbe5751\n",
      "\n",
      "  sns.distplot(ski['Beginner slopes'])\n",
      "C:\\Users\\modave\\AppData\\Local\\Temp\\ipykernel_12216\\2758497676.py:5: UserWarning: \n",
      "\n",
      "`distplot` is a deprecated function and will be removed in seaborn v0.14.0.\n",
      "\n",
      "Please adapt your code to use either `displot` (a figure-level function with\n",
      "similar flexibility) or `histplot` (an axes-level function for histograms).\n",
      "\n",
      "For a guide to updating your code to use the new functions, please see\n",
      "https://gist.github.com/mwaskom/de44147ed2974457ad6372750bbe5751\n",
      "\n",
      "  sns.distplot(ski['Intermediate slopes'])\n",
      "C:\\Users\\modave\\AppData\\Local\\Temp\\ipykernel_12216\\2758497676.py:7: UserWarning: \n",
      "\n",
      "`distplot` is a deprecated function and will be removed in seaborn v0.14.0.\n",
      "\n",
      "Please adapt your code to use either `displot` (a figure-level function with\n",
      "similar flexibility) or `histplot` (an axes-level function for histograms).\n",
      "\n",
      "For a guide to updating your code to use the new functions, please see\n",
      "https://gist.github.com/mwaskom/de44147ed2974457ad6372750bbe5751\n",
      "\n",
      "  sns.distplot(ski['Difficult slopes'])\n"
     ]
    },
    {
     "data": {
      "text/plain": [
       "<Axes: xlabel='Difficult slopes', ylabel='Density'>"
      ]
     },
     "execution_count": 34,
     "metadata": {},
     "output_type": "execute_result"
    },
    {
     "data": {
      "image/png": "[encoded data removed]",
      "text/plain": [
       "<Figure size 800x800 with 3 Axes>"
      ]
     },
     "metadata": {},
     "output_type": "display_data"
    }
   ],
   "source": [
    "plt.figure(figsize=[8,8])\n",
    "plt.subplot(2,2,1)\n",
    "sns.distplot(ski['Beginner slopes'])\n",
    "plt.subplot(2,2,2)\n",
    "sns.distplot(ski['Intermediate slopes'])\n",
    "plt.subplot(2,2,3)\n",
    "sns.distplot(ski['Difficult slopes'])"
   ]
  },
  {
   "cell_type": "markdown",
   "id": "1881b235",
   "metadata": {},
   "source": [
    "From the above graphs it conclude that the level of difficult slopes in all over continents are less compare to befonner & intermediate slopes"
   ]
  },
  {
   "cell_type": "markdown",
   "id": "8bb680ca",
   "metadata": {},
   "source": [
    "    4.Total of Snow cannons per country"
   ]
  },
  {
   "cell_type": "code",
   "execution_count": 35,
   "id": "352f5166",
   "metadata": {},
   "outputs": [
    {
     "data": {
      "text/plain": [
       "([<matplotlib.patches.Wedge at 0x249b8db1570>,\n",
       "  <matplotlib.patches.Wedge at 0x249b8da0760>,\n",
       "  <matplotlib.patches.Wedge at 0x249b8db2290>,\n",
       "  <matplotlib.patches.Wedge at 0x249b8db2920>],\n",
       " [Text(1.099991629726582, 0.004291215615479242, 'Asia'),\n",
       "  Text(-1.0632858159872192, 0.2818213503629455, 'Europe'),\n",
       "  Text(1.0526032000162773, -0.3194158783083477, 'North America'),\n",
       "  Text(1.0994497766225615, -0.03478776630656221, 'Oceania')],\n",
       " [Text(0.5999954343963173, 0.0023406630629886774, '0.1%'),\n",
       "  Text(-0.579974081447574, 0.1537207365616066, '91.5%'),\n",
       "  Text(0.5741472000088784, -0.1742268427136442, '7.4%'),\n",
       "  Text(0.5996998781577607, -0.01897514525812484, '1.0%')])"
      ]
     },
     "execution_count": 35,
     "metadata": {},
     "output_type": "execute_result"
    },
    {
     "data": {
      "image/png": "[encoded data removed]",
      "text/plain": [
       "<Figure size 900x900 with 1 Axes>"
      ]
     },
     "metadata": {},
     "output_type": "display_data"
    }
   ],
   "source": [
    "cannons_by_continent = ski.groupby('Continent')['Snow cannons'].sum().loc[lambda x: x!=0]\n",
    "plt.figure(figsize=[9,9])\n",
    "plt.title('Snow Cannons by Continent')\n",
    "plt.pie(cannons_by_continent,labels=cannons_by_continent.index,autopct='%1.1f%%')"
   ]
  },
  {
   "cell_type": "markdown",
   "id": "9c5841f4",
   "metadata": {},
   "source": [
    "In South America there is no Snow Cannon which use to reproduce snow so we have dropped that particular Country."
   ]
  },
  {
   "cell_type": "markdown",
   "id": "50cd91ce",
   "metadata": {},
   "source": [
    "    5. Highest point & Lowest point in all over world"
   ]
  },
  {
   "cell_type": "code",
   "execution_count": 36,
   "id": "afc33e23",
   "metadata": {},
   "outputs": [
    {
     "name": "stdout",
     "output_type": "stream",
     "text": [
      "Highest point: 97    United States\n",
      "Name: Country, dtype: object\n",
      "Lowest point:  498    Canada\n",
      "Name: Country, dtype: object\n"
     ]
    }
   ],
   "source": [
    "data=ski['Highest point'].max()\n",
    "country = ski.loc[ski['Highest point']==data,'Country']\n",
    "print('Highest point:', country)\n",
    "\n",
    "data=ski['Lowest point'].min()\n",
    "country = ski.loc[ski['Lowest point']==data,'Country']\n",
    "print('Lowest point: ', country)\n"
   ]
  },
  {
   "cell_type": "markdown",
   "id": "b62afaf9",
   "metadata": {},
   "source": [
    "So as per above outcome the Highest point in entire world for ski is in United State & Lowest point is Canada"
   ]
  },
  {
   "cell_type": "markdown",
   "id": "c4f62a7a",
   "metadata": {},
   "source": [
    "     6. Top five countries who's having maximum lift capacity"
   ]
  },
  {
   "cell_type": "code",
   "execution_count": 37,
   "id": "609c65d3",
   "metadata": {},
   "outputs": [
    {
     "name": "stdout",
     "output_type": "stream",
     "text": [
      "   Country  Lift capacity\n",
      "18  France       252280.0\n",
      "61  France       252280.0\n",
      "60  France       252280.0\n",
      "66  France       250860.0\n",
      "68  France       250860.0\n"
     ]
    }
   ],
   "source": [
    "top_5=ski.sort_values(by='Lift capacity',ascending=False).head(5)\n",
    "print(top_5[['Country','Lift capacity']])"
   ]
  },
  {
   "cell_type": "markdown",
   "id": "8ee98bda",
   "metadata": {},
   "source": [
    "So, all the resorts which has maximum lift capacity is in France."
   ]
  },
  {
   "cell_type": "markdown",
   "id": "5d7a97ea",
   "metadata": {},
   "source": [
    "    7. Show the Resort names which is not Children Friendly"
   ]
  },
  {
   "cell_type": "code",
   "execution_count": 38,
   "id": "1c0e401c",
   "metadata": {},
   "outputs": [
    {
     "name": "stdout",
     "output_type": "stream",
     "text": [
      "6                              Porter\n",
      "15                        Treble Cone\n",
      "20                          The Lecht\n",
      "22    Howelsen Hill-Steamboat Springs\n",
      "Name: Resort, dtype: object\n"
     ]
    }
   ],
   "source": [
    "data=ski.loc[ski['Child friendly']==0, 'Resort']\n",
    "print(data)"
   ]
  },
  {
   "cell_type": "markdown",
   "id": "5a07cc9f",
   "metadata": {},
   "source": [
    "Earlier Child friendly column was categorical column so we converted it into numerical column. The above resort names are not Children Friendly."
   ]
  },
  {
   "cell_type": "markdown",
   "id": "1f289163",
   "metadata": {},
   "source": [
    "    9. Which Country is having both Night Park & Summer Park"
   ]
  },
  {
   "cell_type": "code",
   "execution_count": 39,
   "id": "6d91d3a1",
   "metadata": {},
   "outputs": [
    {
     "name": "stdout",
     "output_type": "stream",
     "text": [
      "47                                Coronet Peak\n",
      "48                              Les Deux alpes\n",
      "191                                 Mt. Buller\n",
      "195                                   Perisher\n",
      "207                                Falls Creek\n",
      "321                                 Las Len?as\n",
      "426    Indoor ski area Snow Arena-Druskininkai\n",
      "Name: Resort, dtype: object\n"
     ]
    }
   ],
   "source": [
    "data=ski.loc[(ski['Nightskiing']==1) & (ski['Summer skiing']==1), 'Resort']\n",
    "print(data)"
   ]
  },
  {
   "cell_type": "markdown",
   "id": "b67af3f6",
   "metadata": {},
   "source": [
    "Above Resorts provide both NightSkiing & Summer Skiing"
   ]
  },
  {
   "cell_type": "code",
   "execution_count": null,
   "id": "2c6aa22f",
   "metadata": {},
   "outputs": [],
   "source": []
  }
 ],
 "metadata": {
  "kernelspec": {
   "display_name": "Python 3 (ipykernel)",
   "language": "python",
   "name": "python3"
  },
  "language_info": {
   "codemirror_mode": {
    "name": "ipython",
    "version": 3
   },
   "file_extension": ".py",
   "mimetype": "text/x-python",
   "name": "python",
   "nbconvert_exporter": "python",
   "pygments_lexer": "ipython3",
   "version": "3.10.4"
  }
 },
 "nbformat": 4,
 "nbformat_minor": 5
}
